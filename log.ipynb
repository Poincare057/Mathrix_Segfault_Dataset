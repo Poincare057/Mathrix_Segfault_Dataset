{
 "cells": [
  {
   "cell_type": "code",
   "execution_count": 36,
   "metadata": {},
   "outputs": [],
   "source": [
    "from __future__ import print_function\n",
    "import pandas as pd\n",
    "import numpy as np\n",
    "import re\n",
    "import os\n",
    "import pickle\n",
    "import sys\n",
    "import os.path\n",
    "from datetime import datetime, date, time \n",
    "from dateutil.parser import parse\n",
    "from time import strftime\n",
    "import pyarrow\n",
    "import requests\n",
    "import json\n",
    "import qwikidata\n",
    "import qwikidata.sparql\n",
    "import matplotlib.pyplot as plt\n",
    "\n",
    "pd.options.display.max_rows = 1000\n",
    "\n",
    "#Create place to save diagrams\n",
    "image_dir = './images/'\n",
    "if not os.path.exists(image_dir):\n",
    "    os.mkdir(image_dir)"
   ]
  },
  {
   "cell_type": "code",
   "execution_count": 37,
   "metadata": {},
   "outputs": [
    {
     "name": "stdout",
     "output_type": "stream",
     "text": [
      "reading: /Users/award40/Desktop/covidify-output/data/2020-04-04/agg_data_2020-04-04.parquet.gzip\n"
     ]
    }
   ],
   "source": [
    "DATA_DIR  = '/Users/award40/Desktop/covidify-output/data/' + str(datetime.date(datetime.now()))\n",
    "FILE  = 'agg_data_' + str(datetime.date(datetime.now())) + '.parquet.gzip'\n",
    "\n",
    "print('reading:', os.path.join(DATA_DIR, FILE))\n",
    "df = pd.read_parquet(os.path.join(DATA_DIR, FILE))\n",
    "\n",
    "for col in ['confirmed', 'deaths', 'recovered']:\n",
    "    df[col] = df[col].replace('', 0).astype(int)"
   ]
  },
  {
   "cell_type": "code",
   "execution_count": 39,
   "metadata": {},
   "outputs": [],
   "source": [
    "def get_top_countries(data):\n",
    "    tmp_df = data.copy()\n",
    "    tmp_df = tmp_df[tmp_df.file_date == df.file_date.max()]\n",
    "    return tmp_df.groupby(['country']).agg({'confirmed': 'sum'}).sort_values('confirmed', ascending=False).head(10).index \n",
    "        \n",
    "top_df = get_top_countries(df)    "
   ]
  },
  {
   "cell_type": "code",
   "execution_count": 40,
   "metadata": {},
   "outputs": [
    {
     "data": {
      "text/plain": [
       "Index(['America', 'Italy', 'Spain', 'Germany', 'China', 'France', 'Iran',\n",
       "       'United Kingdom', 'Turkey', 'Switzerland'],\n",
       "      dtype='object', name='country')"
      ]
     },
     "execution_count": 40,
     "metadata": {},
     "output_type": "execute_result"
    }
   ],
   "source": [
    "top_df"
   ]
  },
  {
   "cell_type": "code",
   "execution_count": null,
   "metadata": {},
   "outputs": [],
   "source": []
  },
  {
   "cell_type": "code",
   "execution_count": 41,
   "metadata": {},
   "outputs": [],
   "source": [
    "#filter dataframe\n",
    "COUNTRIES = ['America', 'China', 'France', 'Ireland', 'Italy', 'South Korea']\n",
    "\n",
    "df = df[df.country.isin(COUNTRIES)]"
   ]
  },
  {
   "cell_type": "code",
   "execution_count": 42,
   "metadata": {},
   "outputs": [],
   "source": [
    "df = df.sort_values(['country', 'file_date'])"
   ]
  },
  {
   "cell_type": "code",
   "execution_count": 43,
   "metadata": {},
   "outputs": [],
   "source": [
    "# df"
   ]
  },
  {
   "cell_type": "code",
   "execution_count": 44,
   "metadata": {},
   "outputs": [
    {
     "name": "stdout",
     "output_type": "stream",
     "text": [
      "America\n",
      "China\n",
      "France\n",
      "Ireland\n",
      "Italy\n",
      "South Korea\n"
     ]
    }
   ],
   "source": [
    "# COUNTRIES = ['America', 'China', 'France', 'Ireland', 'Italy', 'South Korea']\n",
    "\n",
    "def get_day_counts(d, country):\n",
    "    '''\n",
    "    For each country, get the days of the spread since 500\n",
    "    cases\n",
    "    '''\n",
    "    data = d.copy()\n",
    "    result_df = pd.DataFrame([])\n",
    "    result_df = data.groupby(['file_date']).agg({'confirmed': 'sum',\n",
    "                                                'recovered': 'sum',\n",
    "                                                'deaths': 'sum'})\n",
    "    result_df['date'] = data['file_date'].unique()\n",
    "    result_df['country'] = country\n",
    "        \n",
    "    result_df = result_df[result_df.confirmed >= 500]\n",
    "    result_df.insert(loc=0, column='day', value=np.arange(len(result_df)))\n",
    "    return result_df\n",
    "\n",
    "df_list = []\n",
    "\n",
    "for country in sorted(COUNTRIES):\n",
    "    print(country)\n",
    "    df_list.append(get_day_counts(df[df.country == country], country))\n",
    "    \n",
    "new_df = pd.concat(df_list, axis=0, ignore_index=True)\n",
    "# new_df = new_df.sort_values(['country', 'day'])"
   ]
  },
  {
   "cell_type": "code",
   "execution_count": 45,
   "metadata": {},
   "outputs": [],
   "source": [
    "# new_df"
   ]
  },
  {
   "cell_type": "code",
   "execution_count": 46,
   "metadata": {},
   "outputs": [],
   "source": [
    "# def get_country_cases(col, df, country):\n",
    "#     values = []\n",
    "    \n",
    "#     for date in df.file_date.unique():\n",
    "#         tmp_df = df[df.file_date == date]\n",
    "#         try:\n",
    "#             values.append(tmp_df[tmp_df.country == country].confirmed.sum())\n",
    "#         except:\n",
    "#             values.append(0)\n",
    "#     return values\n",
    "\n",
    "# #Check if country not in filter dataframe\n",
    "# for country in COUNTRIES:\n",
    "#     if country not in df.country.values:\n",
    "#         print(country, 'not in list. Please check spelling')\n",
    "#     else:\n",
    "#         test_df[country.lower() + '_confirmed'] = get_country_cases('confirmed', df, country)"
   ]
  },
  {
   "cell_type": "code",
   "execution_count": 47,
   "metadata": {},
   "outputs": [],
   "source": [
    "\n",
    "# def fix_data(tmp_df):\n",
    "\n",
    "\n",
    "# #Check if country not in filter dataframe\n",
    "# for country in COUNTRIES:\n",
    "#     if country not in df.country.values:\n",
    "#         print(country, 'not in list. Please check spelling')\n",
    "#     else:\n",
    "#         test_df[country.lower() + '_confirmed'] = get_country_cases('confirmed', df, country)"
   ]
  },
  {
   "cell_type": "code",
   "execution_count": 48,
   "metadata": {},
   "outputs": [],
   "source": [
    "# new_df"
   ]
  },
  {
   "cell_type": "markdown",
   "metadata": {},
   "source": [
    "## Plotting"
   ]
  },
  {
   "cell_type": "code",
   "execution_count": 49,
   "metadata": {},
   "outputs": [],
   "source": [
    "import matplotlib.pyplot as plt\n",
    "%matplotlib inline\n",
    "font = {'weight' : 'bold',\n",
    "        'size'   : 22}\n",
    "\n",
    "plt.rc('font', **font)\n",
    "\n",
    "#set ggplot style\n",
    "plt.style.use('ggplot')"
   ]
  },
  {
   "cell_type": "code",
   "execution_count": 50,
   "metadata": {},
   "outputs": [],
   "source": [
    "# new_df"
   ]
  },
  {
   "cell_type": "code",
   "execution_count": 51,
   "metadata": {},
   "outputs": [],
   "source": [
    "col_list = [x for x in new_df.columns if x != 'date']"
   ]
  },
  {
   "cell_type": "code",
   "execution_count": 52,
   "metadata": {},
   "outputs": [
    {
     "ename": "AttributeError",
     "evalue": "'AxesSubplot' object has no attribute 'set_color_cycle'",
     "output_type": "error",
     "traceback": [
      "\u001b[0;31m---------------------------------------------------------------------------\u001b[0m",
      "\u001b[0;31mAttributeError\u001b[0m                            Traceback (most recent call last)",
      "\u001b[0;32m<ipython-input-52-29f742c9d6be>\u001b[0m in \u001b[0;36m<module>\u001b[0;34m\u001b[0m\n\u001b[1;32m     14\u001b[0m \u001b[0;34m\u001b[0m\u001b[0m\n\u001b[1;32m     15\u001b[0m \u001b[0;32mfor\u001b[0m \u001b[0mcol\u001b[0m \u001b[0;32min\u001b[0m \u001b[0;34m[\u001b[0m\u001b[0;34m'confirmed'\u001b[0m\u001b[0;34m,\u001b[0m \u001b[0;34m'recovered'\u001b[0m\u001b[0;34m,\u001b[0m \u001b[0;34m'deaths'\u001b[0m\u001b[0;34m]\u001b[0m\u001b[0;34m:\u001b[0m\u001b[0;34m\u001b[0m\u001b[0;34m\u001b[0m\u001b[0m\n\u001b[0;32m---> 16\u001b[0;31m     \u001b[0mlog_plot\u001b[0m\u001b[0;34m(\u001b[0m\u001b[0mnew_df\u001b[0m\u001b[0;34m,\u001b[0m \u001b[0mcol\u001b[0m\u001b[0;34m)\u001b[0m\u001b[0;34m\u001b[0m\u001b[0;34m\u001b[0m\u001b[0m\n\u001b[0m",
      "\u001b[0;32m<ipython-input-52-29f742c9d6be>\u001b[0m in \u001b[0;36mlog_plot\u001b[0;34m(tmp, col)\u001b[0m\n\u001b[1;32m      8\u001b[0m         \u001b[0mtmp\u001b[0m\u001b[0;34m[\u001b[0m\u001b[0mtmp\u001b[0m\u001b[0;34m.\u001b[0m\u001b[0mcountry\u001b[0m \u001b[0;34m==\u001b[0m \u001b[0mcountry\u001b[0m\u001b[0;34m]\u001b[0m\u001b[0;34m.\u001b[0m\u001b[0mgroupby\u001b[0m\u001b[0;34m(\u001b[0m\u001b[0;34m[\u001b[0m\u001b[0;34m'day'\u001b[0m\u001b[0;34m]\u001b[0m\u001b[0;34m)\u001b[0m\u001b[0;34m[\u001b[0m\u001b[0;34m[\u001b[0m\u001b[0mnew_col\u001b[0m\u001b[0;34m]\u001b[0m\u001b[0;34m]\u001b[0m\u001b[0;34m.\u001b[0m\u001b[0msum\u001b[0m\u001b[0;34m(\u001b[0m\u001b[0;34m)\u001b[0m\u001b[0;34m.\u001b[0m\u001b[0mplot\u001b[0m\u001b[0;34m(\u001b[0m\u001b[0max\u001b[0m\u001b[0;34m=\u001b[0m\u001b[0max\u001b[0m\u001b[0;34m)\u001b[0m\u001b[0;34m\u001b[0m\u001b[0;34m\u001b[0m\u001b[0m\n\u001b[1;32m      9\u001b[0m         \u001b[0max\u001b[0m\u001b[0;34m.\u001b[0m\u001b[0mset_yscale\u001b[0m\u001b[0;34m(\u001b[0m\u001b[0;34m'log'\u001b[0m\u001b[0;34m,\u001b[0m \u001b[0mbasey\u001b[0m\u001b[0;34m=\u001b[0m\u001b[0;36m10\u001b[0m\u001b[0;34m)\u001b[0m\u001b[0;34m\u001b[0m\u001b[0;34m\u001b[0m\u001b[0m\n\u001b[0;32m---> 10\u001b[0;31m         \u001b[0max\u001b[0m\u001b[0;34m.\u001b[0m\u001b[0mset_color_cycle\u001b[0m\u001b[0;34m(\u001b[0m\u001b[0;34m[\u001b[0m\u001b[0mcm\u001b[0m\u001b[0;34m(\u001b[0m\u001b[0;36m1.\u001b[0m\u001b[0;34m*\u001b[0m\u001b[0mi\u001b[0m\u001b[0;34m/\u001b[0m\u001b[0mNUM_COLORS\u001b[0m\u001b[0;34m)\u001b[0m \u001b[0;32mfor\u001b[0m \u001b[0mi\u001b[0m \u001b[0;32min\u001b[0m \u001b[0mrange\u001b[0m\u001b[0;34m(\u001b[0m\u001b[0mNUM_COLORS\u001b[0m\u001b[0;34m)\u001b[0m\u001b[0;34m]\u001b[0m\u001b[0;34m)\u001b[0m\u001b[0;34m\u001b[0m\u001b[0;34m\u001b[0m\u001b[0m\n\u001b[0m\u001b[1;32m     11\u001b[0m \u001b[0;34m\u001b[0m\u001b[0m\n\u001b[1;32m     12\u001b[0m     \u001b[0mfig\u001b[0m \u001b[0;34m=\u001b[0m \u001b[0max\u001b[0m\u001b[0;34m.\u001b[0m\u001b[0mget_figure\u001b[0m\u001b[0;34m(\u001b[0m\u001b[0;34m)\u001b[0m\u001b[0;34m\u001b[0m\u001b[0;34m\u001b[0m\u001b[0m\n",
      "\u001b[0;31mAttributeError\u001b[0m: 'AxesSubplot' object has no attribute 'set_color_cycle'"
     ]
    },
    {
     "data": {
      "image/png": "[encoded data removed]",
      "text/plain": [
       "<Figure size 1440x720 with 1 Axes>"
      ]
     },
     "metadata": {},
     "output_type": "display_data"
    }
   ],
   "source": [
    "def log_plot(tmp, col):\n",
    "    fig, ax = plt.subplots(figsize=(20,10))\n",
    "    for country in tmp.country.unique():\n",
    "        new_col = country.lower() + '_' + col\n",
    "        \n",
    "        tmp[country.lower() + '_' + col] = tmp[[col]]\n",
    "        tmp.rename(columns={col: new_col})\n",
    "        tmp[tmp.country == country].groupby(['day'])[[new_col]].sum().plot(ax=ax)\n",
    "        ax.set_yscale('log', basey=10)\n",
    "        ax.set_color_cycle([cm(1.*i/NUM_COLORS) for i in range(NUM_COLORS)])\n",
    "    \n",
    "    fig = ax.get_figure()\n",
    "    fig.savefig(os.path.join(image_dir, create_save_file(col, 'log')))\n",
    "\n",
    "for col in ['confirmed', 'recovered', 'deaths']:\n",
    "    log_plot(new_df, col)"
   ]
  },
  {
   "cell_type": "raw",
   "metadata": {},
   "source": []
  }
 ],
 "metadata": {
  "kernelspec": {
   "display_name": "Python 3.6.8 64-bit ('anaconda3': virtualenv)",
   "language": "python",
   "name": "python36864bitanaconda3virtualenv59e2ff4492e04649af7e0fd703909eac"
  },
  "language_info": {
   "codemirror_mode": {
    "name": "ipython",
    "version": 3
   },
   "file_extension": ".py",
   "mimetype": "text/x-python",
   "name": "python",
   "nbconvert_exporter": "python",
   "pygments_lexer": "ipython3",
   "version": "3.6.8"
  }
 },
 "nbformat": 4,
 "nbformat_minor": 4
}
