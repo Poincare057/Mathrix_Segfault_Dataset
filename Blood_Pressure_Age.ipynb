{
 "cells": [
  {
   "cell_type": "code",
   "execution_count": 2,
   "metadata": {},
   "outputs": [],
   "source": [
    "import pandas as pd\n",
    "data = pd.read_csv('~/Downloads/Mathtrix 2020/examination.csv')\n",
    "data_age = pd.read_csv('~/Downloads/Mathtrix 2020/demographic.csv')"
   ]
  },
  {
   "cell_type": "code",
   "execution_count": 3,
   "metadata": {},
   "outputs": [
    {
     "data": {
      "text/plain": [
       "9813"
      ]
     },
     "execution_count": 3,
     "metadata": {},
     "output_type": "execute_result"
    }
   ],
   "source": [
    "correct = 0\n",
    "wrong = 0\n",
    "for i in data_age[\"SEQN\"]:\n",
    "    for j in data[\"SEQN\"]:\n",
    "        if i == j:\n",
    "            correct += 1\n",
    "        else:\n",
    "            wrong += 1\n",
    "correct"
   ]
  },
  {
   "cell_type": "code",
   "execution_count": 4,
   "metadata": {},
   "outputs": [],
   "source": [
    "#for i in data_age[\"SEQN\"]:\n",
    "    #for j in data[\"SEQN\"]:\n",
    "        #if i == j:"
   ]
  },
  {
   "cell_type": "code",
   "execution_count": 5,
   "metadata": {},
   "outputs": [
    {
     "data": {
      "text/html": [
       "<div>\n",
       "<style scoped>\n",
       "    .dataframe tbody tr th:only-of-type {\n",
       "        vertical-align: middle;\n",
       "    }\n",
       "\n",
       "    .dataframe tbody tr th {\n",
       "        vertical-align: top;\n",
       "    }\n",
       "\n",
       "    .dataframe thead th {\n",
       "        text-align: right;\n",
       "    }\n",
       "</style>\n",
       "<table border=\"1\" class=\"dataframe\">\n",
       "  <thead>\n",
       "    <tr style=\"text-align: right;\">\n",
       "      <th></th>\n",
       "      <th>Unnamed: 0</th>\n",
       "      <th>RIDAGEYR</th>\n",
       "      <th>bp_low</th>\n",
       "      <th>bp_high</th>\n",
       "    </tr>\n",
       "  </thead>\n",
       "  <tbody>\n",
       "    <tr>\n",
       "      <th>0</th>\n",
       "      <td>0</td>\n",
       "      <td>69</td>\n",
       "      <td>76.0</td>\n",
       "      <td>114.0</td>\n",
       "    </tr>\n",
       "    <tr>\n",
       "      <th>1</th>\n",
       "      <td>1</td>\n",
       "      <td>54</td>\n",
       "      <td>80.0</td>\n",
       "      <td>160.0</td>\n",
       "    </tr>\n",
       "    <tr>\n",
       "      <th>2</th>\n",
       "      <td>2</td>\n",
       "      <td>72</td>\n",
       "      <td>76.0</td>\n",
       "      <td>140.0</td>\n",
       "    </tr>\n",
       "    <tr>\n",
       "      <th>3</th>\n",
       "      <td>3</td>\n",
       "      <td>9</td>\n",
       "      <td>34.0</td>\n",
       "      <td>102.0</td>\n",
       "    </tr>\n",
       "    <tr>\n",
       "      <th>4</th>\n",
       "      <td>4</td>\n",
       "      <td>73</td>\n",
       "      <td>88.0</td>\n",
       "      <td>134.0</td>\n",
       "    </tr>\n",
       "    <tr>\n",
       "      <th>...</th>\n",
       "      <td>...</td>\n",
       "      <td>...</td>\n",
       "      <td>...</td>\n",
       "      <td>...</td>\n",
       "    </tr>\n",
       "    <tr>\n",
       "      <th>7144</th>\n",
       "      <td>7144</td>\n",
       "      <td>37</td>\n",
       "      <td>90.0</td>\n",
       "      <td>132.0</td>\n",
       "    </tr>\n",
       "    <tr>\n",
       "      <th>7145</th>\n",
       "      <td>7145</td>\n",
       "      <td>60</td>\n",
       "      <td>72.0</td>\n",
       "      <td>112.0</td>\n",
       "    </tr>\n",
       "    <tr>\n",
       "      <th>7146</th>\n",
       "      <td>7146</td>\n",
       "      <td>31</td>\n",
       "      <td>66.0</td>\n",
       "      <td>168.0</td>\n",
       "    </tr>\n",
       "    <tr>\n",
       "      <th>7147</th>\n",
       "      <td>7147</td>\n",
       "      <td>48</td>\n",
       "      <td>74.0</td>\n",
       "      <td>116.0</td>\n",
       "    </tr>\n",
       "    <tr>\n",
       "      <th>7148</th>\n",
       "      <td>7148</td>\n",
       "      <td>63</td>\n",
       "      <td>56.0</td>\n",
       "      <td>94.0</td>\n",
       "    </tr>\n",
       "  </tbody>\n",
       "</table>\n",
       "<p>7149 rows × 4 columns</p>\n",
       "</div>"
      ],
      "text/plain": [
       "      Unnamed: 0  RIDAGEYR  bp_low  bp_high\n",
       "0              0        69    76.0    114.0\n",
       "1              1        54    80.0    160.0\n",
       "2              2        72    76.0    140.0\n",
       "3              3         9    34.0    102.0\n",
       "4              4        73    88.0    134.0\n",
       "...          ...       ...     ...      ...\n",
       "7144        7144        37    90.0    132.0\n",
       "7145        7145        60    72.0    112.0\n",
       "7146        7146        31    66.0    168.0\n",
       "7147        7147        48    74.0    116.0\n",
       "7148        7148        63    56.0     94.0\n",
       "\n",
       "[7149 rows x 4 columns]"
      ]
     },
     "execution_count": 5,
     "metadata": {},
     "output_type": "execute_result"
    }
   ],
   "source": [
    "final_df = pd.read_csv('~/Downloads/Mathtrix 2020/New_Dataset.csv')\n",
    "final_df"
   ]
  },
  {
   "cell_type": "code",
   "execution_count": 6,
   "metadata": {},
   "outputs": [
    {
     "data": {
      "text/plain": [
       "7149"
      ]
     },
     "execution_count": 6,
     "metadata": {},
     "output_type": "execute_result"
    }
   ],
   "source": [
    "x = len(final_df)\n",
    "x"
   ]
  },
  {
   "cell_type": "code",
   "execution_count": 7,
   "metadata": {},
   "outputs": [
    {
     "name": "stdout",
     "output_type": "stream",
     "text": [
      "1786\n",
      "265\n"
     ]
    },
    {
     "data": {
      "text/plain": [
       "0.14837625979843225"
      ]
     },
     "execution_count": 7,
     "metadata": {},
     "output_type": "execute_result"
    }
   ],
   "source": [
    "first_grp = 0\n",
    "first_bp = 0\n",
    "for i in range(x):\n",
    "    if final_df.loc[i]['RIDAGEYR']<10 and final_df.loc[i]['RIDAGEYR']>=0:\n",
    "        first_grp +=1\n",
    "        if final_df.loc[i]['bp_low'] >= 85 or final_df.loc[i]['bp_high'] > 140:\n",
    "            first_bp +=1\n",
    "print(first_grp)\n",
    "print(first_bp)\n",
    "prob_first = (first_bp)/(first_grp)\n",
    "prob_first"
   ]
  },
  {
   "cell_type": "code",
   "execution_count": 8,
   "metadata": {},
   "outputs": [
    {
     "name": "stdout",
     "output_type": "stream",
     "text": [
      "1323\n",
      "176\n"
     ]
    },
    {
     "data": {
      "text/plain": [
       "0.1330309901738473"
      ]
     },
     "execution_count": 8,
     "metadata": {},
     "output_type": "execute_result"
    }
   ],
   "source": [
    "second_grp = 0\n",
    "second_bp = 0\n",
    "for i in range(x):\n",
    "    if final_df.loc[i]['RIDAGEYR']<20 and final_df.loc[i]['RIDAGEYR']>= 10:\n",
    "        second_grp +=1\n",
    "        if final_df.loc[i]['bp_low'] >= 85 or final_df.loc[i]['bp_high'] > 140:\n",
    "            second_bp +=1\n",
    "print(second_grp)\n",
    "print(second_bp)\n",
    "prob_second = (second_bp)/(second_grp)\n",
    "prob_second"
   ]
  },
  {
   "cell_type": "code",
   "execution_count": 9,
   "metadata": {},
   "outputs": [
    {
     "name": "stdout",
     "output_type": "stream",
     "text": [
      "657\n",
      "103\n"
     ]
    },
    {
     "data": {
      "text/plain": [
       "0.1567732115677321"
      ]
     },
     "execution_count": 9,
     "metadata": {},
     "output_type": "execute_result"
    }
   ],
   "source": [
    "third_grp = 0\n",
    "third_bp = 0\n",
    "for i in range(x):\n",
    "    if final_df.loc[i]['RIDAGEYR']<30 and final_df.loc[i]['RIDAGEYR']>= 20:\n",
    "        third_grp +=1\n",
    "        if final_df.loc[i]['bp_low'] >= 85 or final_df.loc[i]['bp_high'] > 140:\n",
    "            third_bp +=1\n",
    "print(third_grp)\n",
    "print(third_bp)\n",
    "prob_third = (third_bp)/(third_grp)\n",
    "prob_third"
   ]
  },
  {
   "cell_type": "code",
   "execution_count": 10,
   "metadata": {},
   "outputs": [
    {
     "name": "stdout",
     "output_type": "stream",
     "text": [
      "688\n",
      "110\n"
     ]
    },
    {
     "data": {
      "text/plain": [
       "0.15988372093023256"
      ]
     },
     "execution_count": 10,
     "metadata": {},
     "output_type": "execute_result"
    }
   ],
   "source": [
    "fourth_grp = 0\n",
    "fourth_bp = 0\n",
    "for i in range(x):\n",
    "    if final_df.loc[i]['RIDAGEYR']<40 and final_df.loc[i]['RIDAGEYR']>= 30:\n",
    "        fourth_grp +=1\n",
    "        if final_df.loc[i]['bp_low'] >= 85 or final_df.loc[i]['bp_high'] > 140:\n",
    "            fourth_bp +=1\n",
    "print(fourth_grp)\n",
    "print(fourth_bp)\n",
    "prob_fourth = (fourth_bp)/(fourth_grp)\n",
    "prob_fourth"
   ]
  },
  {
   "cell_type": "code",
   "execution_count": 11,
   "metadata": {},
   "outputs": [
    {
     "name": "stdout",
     "output_type": "stream",
     "text": [
      "742\n",
      "356\n"
     ]
    },
    {
     "data": {
      "text/plain": [
       "0.4797843665768194"
      ]
     },
     "execution_count": 11,
     "metadata": {},
     "output_type": "execute_result"
    }
   ],
   "source": [
    "fifth_grp = 0\n",
    "fifth_bp = 0\n",
    "for i in range(x):\n",
    "    if final_df.loc[i]['RIDAGEYR']<50 and final_df.loc[i]['RIDAGEYR']>= 40:\n",
    "        fifth_grp +=1\n",
    "        if final_df.loc[i]['bp_low'] >= 85 or final_df.loc[i]['bp_low'] <= 60 or final_df.loc[i]['bp_high'] > 135:\n",
    "            fifth_bp +=1\n",
    "print(fifth_grp)\n",
    "print(fifth_bp)\n",
    "prob_fifth = (fifth_bp)/(fifth_grp)\n",
    "prob_fifth"
   ]
  },
  {
   "cell_type": "code",
   "execution_count": 12,
   "metadata": {},
   "outputs": [
    {
     "name": "stdout",
     "output_type": "stream",
     "text": [
      "670\n",
      "307\n"
     ]
    },
    {
     "data": {
      "text/plain": [
       "0.4582089552238806"
      ]
     },
     "execution_count": 12,
     "metadata": {},
     "output_type": "execute_result"
    }
   ],
   "source": [
    "sixth_grp = 0\n",
    "sixth_bp = 0\n",
    "for i in range(x):\n",
    "    if final_df.loc[i]['RIDAGEYR']<60 and final_df.loc[i]['RIDAGEYR']>= 50:\n",
    "        sixth_grp +=1\n",
    "        if final_df.loc[i]['bp_low'] >= 85 or final_df.loc[i]['bp_low'] <= 60 or final_df.loc[i]['bp_high'] > 135:\n",
    "            sixth_bp +=1\n",
    "print(sixth_grp)\n",
    "print(sixth_bp)\n",
    "prob_sixth = (sixth_bp)/(sixth_grp)\n",
    "prob_sixth"
   ]
  },
  {
   "cell_type": "code",
   "execution_count": 13,
   "metadata": {},
   "outputs": [
    {
     "name": "stdout",
     "output_type": "stream",
     "text": [
      "674\n",
      "331\n"
     ]
    },
    {
     "data": {
      "text/plain": [
       "0.4910979228486647"
      ]
     },
     "execution_count": 13,
     "metadata": {},
     "output_type": "execute_result"
    }
   ],
   "source": [
    "seventh_grp = 0\n",
    "seventh_bp = 0\n",
    "for i in range(x):\n",
    "    if final_df.loc[i]['RIDAGEYR']<70 and final_df.loc[i]['RIDAGEYR']>= 60:\n",
    "        seventh_grp +=1\n",
    "        if final_df.loc[i]['bp_low'] >= 85 or final_df.loc[i]['bp_low'] <= 60 or final_df.loc[i]['bp_high'] > 135:\n",
    "            seventh_bp +=1\n",
    "print(seventh_grp)\n",
    "print(seventh_bp)\n",
    "prob_seventh = (seventh_bp)/(seventh_grp)\n",
    "prob_seventh"
   ]
  },
  {
   "cell_type": "code",
   "execution_count": 14,
   "metadata": {},
   "outputs": [
    {
     "name": "stdout",
     "output_type": "stream",
     "text": [
      "377\n",
      "171\n"
     ]
    },
    {
     "data": {
      "text/plain": [
       "0.4535809018567639"
      ]
     },
     "execution_count": 14,
     "metadata": {},
     "output_type": "execute_result"
    }
   ],
   "source": [
    "eight_grp = 0\n",
    "eight_bp = 0\n",
    "for i in range(x):\n",
    "    if final_df.loc[i]['RIDAGEYR']<80 and final_df.loc[i]['RIDAGEYR']>= 70:\n",
    "        eight_grp +=1\n",
    "        if final_df.loc[i]['bp_low'] >= 85 or final_df.loc[i]['bp_low'] <= 60 or final_df.loc[i]['bp_high'] > 135:\n",
    "            eight_bp +=1\n",
    "print(eight_grp)\n",
    "print(eight_bp)\n",
    "prob_eight = (eight_bp)/(eight_grp)\n",
    "prob_eight"
   ]
  },
  {
   "cell_type": "code",
   "execution_count": 15,
   "metadata": {},
   "outputs": [
    {
     "name": "stdout",
     "output_type": "stream",
     "text": [
      "232\n",
      "109\n"
     ]
    },
    {
     "data": {
      "text/plain": [
       "0.4698275862068966"
      ]
     },
     "execution_count": 15,
     "metadata": {},
     "output_type": "execute_result"
    }
   ],
   "source": [
    "nine_grp = 0\n",
    "nine_bp = 0\n",
    "for i in range(x):\n",
    "    if final_df.loc[i]['RIDAGEYR']>= 80:\n",
    "        nine_grp +=1\n",
    "        if final_df.loc[i]['bp_low'] >= 85 or final_df.loc[i]['bp_low'] <= 60 or final_df.loc[i]['bp_high'] > 135:\n",
    "            nine_bp +=1\n",
    "print(nine_grp)\n",
    "print(nine_bp)\n",
    "prob_nine = (nine_bp)/(nine_grp)\n",
    "prob_nine"
   ]
  },
  {
   "cell_type": "code",
   "execution_count": null,
   "metadata": {},
   "outputs": [],
   "source": []
  }
 ],
 "metadata": {
  "kernelspec": {
   "display_name": "Python 3",
   "language": "python",
   "name": "python3"
  },
  "language_info": {
   "codemirror_mode": {
    "name": "ipython",
    "version": 3
   },
   "file_extension": ".py",
   "mimetype": "text/x-python",
   "name": "python",
   "nbconvert_exporter": "python",
   "pygments_lexer": "ipython3",
   "version": "3.8.3"
  }
 },
 "nbformat": 4,
 "nbformat_minor": 4
}
