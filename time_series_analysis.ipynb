{
 "cells": [
  {
   "cell_type": "markdown",
   "metadata": {},
   "source": [
    "### Time Series Analysis on Corona Virus Data\n",
    "\n",
    "\n",
    "https://machinelearningmastery.com/time-series-forecasting-methods-in-python-cheat-sheet/"
   ]
  },
  {
   "cell_type": "code",
   "execution_count": 77,
   "metadata": {},
   "outputs": [],
   "source": [
    "from __future__ import print_function\n",
    "import pandas as pd\n",
    "import numpy as np\n",
    "import os\n",
    "import pickle\n",
    "import os.path\n",
    "from datetime import datetime\n",
    "import pyarrow\n",
    "import matplotlib.pyplot as plt\n",
    "import warnings\n",
    "import statsmodels.api as sm\n",
    "from pylab import rcParams\n",
    "from sklearn.metrics import mean_absolute_error, mean_squared_error, mean_squared_log_error\n",
    "warnings.filterwarnings(\"ignore\")\n",
    "%matplotlib inline\n",
    "\n"
   ]
  },
  {
   "cell_type": "code",
   "execution_count": 78,
   "metadata": {},
   "outputs": [],
   "source": [
    "# Dynamic parameters\n",
    "data_dir  = '../data/' + str(datetime.date(datetime.now()))\n",
    "agg_file  = 'agg_data_{}.parquet.gzip'.format(datetime.date(datetime.now()))\n",
    "trend_file  = 'trend_{}.csv'.format(datetime.date(datetime.now()))\n",
    "\n",
    "# import data\n",
    "agg_df = pd.read_parquet(os.path.join(data_dir, agg_file))\n",
    "daily_df = pd.read_csv(os.path.join(data_dir, trend_file), index_col=[0])\n",
    "\n",
    "# Convert types\n",
    "for col in ['confirmed', 'deaths', 'recovered']:\n",
    "    agg_df[col] = agg_df[col].replace('', 0).astype(int)\n",
    "\n",
    "agg_df['date'] = agg_df['date'].astype('datetime64[ns]')\n",
    "daily_df['date'] = daily_df['date'].astype('datetime64[ns]')\n",
    "\n",
    "#set ggplot style\n",
    "plt.style.use('ggplot')"
   ]
  },
  {
   "cell_type": "markdown",
   "metadata": {},
   "source": [
    "#### Display range of days"
   ]
  },
  {
   "cell_type": "markdown",
   "metadata": {},
   "source": [
    "#### Plotting"
   ]
  },
  {
   "cell_type": "code",
   "execution_count": 79,
   "metadata": {},
   "outputs": [],
   "source": [
    "# Plots\n",
    "def plot_scatter_2vars(tmp_df, x_col, y_col):\n",
    "    tmp_df.plot(x=x_col, y=y_col, style='o')  \n",
    "    plt.title('Scatter plot for correlation of ' + x_col + ' and ' + y_col)  \n",
    "    plt.xlabel(x_col)  \n",
    "    plt.ylabel(y_col)  \n",
    "    plt.show()\n",
    "\n",
    "def plot_scatter_1var(tmp_df, col):\n",
    "    \n",
    "    tmp_df.groupby(['date'])[col].sum().plot(figsize=(10, 6), style='o') \n",
    "    plt.title('Regression on accumalitive Sum of Confirmed Cases')  \n",
    "    plt.xlabel('date')  \n",
    "    plt.ylabel('confirmed cases')  \n",
    "    plt.show()\n",
    "    \n",
    "# Plot and save trendline graph\n",
    "def plot_trend_line(tmp_df, col):\n",
    "    fig, ax = plt.subplots(figsize=(13,8))\n",
    "    tmp_df.groupby('date')[[col]].sum().plot(ax=ax)\n",
    "    fig = ax.get_figure()\n",
    "\n",
    "def plot_series(time, series, format=\"-\", start=0, end=None):\n",
    "    plt.plot(time[start:end], series[start:end], format)\n",
    "    plt.xlabel(\"Time\")\n",
    "    plt.ylabel(\"Value\")\n",
    "    plt.grid(True)"
   ]
  },
  {
   "cell_type": "code",
   "execution_count": 80,
   "metadata": {},
   "outputs": [
    {
     "name": "stdout",
     "output_type": "stream",
     "text": [
      "Calulcating date ranges...\n",
      "\n",
      "time series data:\n",
      "... 2020-01-22 to 2020-02-23\n",
      "... -32 days +00:00:00\n",
      "\n",
      "\n",
      "trend data:\n",
      "... 2020-01-22 to 2020-02-23\n",
      "... -32 days +00:00:00\n",
      "\n",
      "\n"
     ]
    }
   ],
   "source": [
    "#Calculate range of trend data\n",
    "def time_range(tmp_df):\n",
    "    print('...', tmp_df['date'].min().date(), 'to',  tmp_df['date'].max().date())\n",
    "    print('...', tmp_df['date'].min() - tmp_df['date'].max())\n",
    "    print('\\n')\n",
    "\n",
    "print('Calulcating date ranges...\\n')\n",
    "print('time series data:')\n",
    "time_range(agg_df)\n",
    "\n",
    "print('trend data:')\n",
    "time_range(daily_df)"
   ]
  },
  {
   "cell_type": "code",
   "execution_count": 152,
   "metadata": {},
   "outputs": [
    {
     "data": {
      "text/html": [
       "<div>\n",
       "<style scoped>\n",
       "    .dataframe tbody tr th:only-of-type {\n",
       "        vertical-align: middle;\n",
       "    }\n",
       "\n",
       "    .dataframe tbody tr th {\n",
       "        vertical-align: top;\n",
       "    }\n",
       "\n",
       "    .dataframe thead th {\n",
       "        text-align: right;\n",
       "    }\n",
       "</style>\n",
       "<table border=\"1\" class=\"dataframe\">\n",
       "  <thead>\n",
       "    <tr style=\"text-align: right;\">\n",
       "      <th></th>\n",
       "      <th>new_confirmed_cases</th>\n",
       "      <th>new_deaths</th>\n",
       "      <th>new_recoveries</th>\n",
       "      <th>date</th>\n",
       "      <th>confirmed_MA</th>\n",
       "      <th>deaths_MA</th>\n",
       "      <th>recovered_MA</th>\n",
       "      <th>confirmed_exp_MA</th>\n",
       "      <th>deaths_exp_MA</th>\n",
       "      <th>recovered_exp_MA</th>\n",
       "      <th>currently_infected</th>\n",
       "      <th>delta</th>\n",
       "    </tr>\n",
       "  </thead>\n",
       "  <tbody>\n",
       "    <tr>\n",
       "      <th>0</th>\n",
       "      <td>555</td>\n",
       "      <td>17</td>\n",
       "      <td>28</td>\n",
       "      <td>2020-01-22</td>\n",
       "      <td>NaN</td>\n",
       "      <td>NaN</td>\n",
       "      <td>NaN</td>\n",
       "      <td>555.000000</td>\n",
       "      <td>17.000000</td>\n",
       "      <td>28.000000</td>\n",
       "      <td>510</td>\n",
       "      <td>-45</td>\n",
       "    </tr>\n",
       "    <tr>\n",
       "      <th>1</th>\n",
       "      <td>98</td>\n",
       "      <td>1</td>\n",
       "      <td>2</td>\n",
       "      <td>2020-01-23</td>\n",
       "      <td>326.5</td>\n",
       "      <td>9.0</td>\n",
       "      <td>15.0</td>\n",
       "      <td>212.250000</td>\n",
       "      <td>5.000000</td>\n",
       "      <td>8.500000</td>\n",
       "      <td>605</td>\n",
       "      <td>-48</td>\n",
       "    </tr>\n",
       "    <tr>\n",
       "      <th>2</th>\n",
       "      <td>288</td>\n",
       "      <td>8</td>\n",
       "      <td>6</td>\n",
       "      <td>2020-01-24</td>\n",
       "      <td>193.0</td>\n",
       "      <td>4.5</td>\n",
       "      <td>4.0</td>\n",
       "      <td>264.692308</td>\n",
       "      <td>7.076923</td>\n",
       "      <td>6.769231</td>\n",
       "      <td>879</td>\n",
       "      <td>-62</td>\n",
       "    </tr>\n",
       "    <tr>\n",
       "      <th>3</th>\n",
       "      <td>497</td>\n",
       "      <td>16</td>\n",
       "      <td>3</td>\n",
       "      <td>2020-01-25</td>\n",
       "      <td>392.5</td>\n",
       "      <td>12.0</td>\n",
       "      <td>4.5</td>\n",
       "      <td>421.500000</td>\n",
       "      <td>13.100000</td>\n",
       "      <td>4.225000</td>\n",
       "      <td>1357</td>\n",
       "      <td>-81</td>\n",
       "    </tr>\n",
       "    <tr>\n",
       "      <th>4</th>\n",
       "      <td>680</td>\n",
       "      <td>14</td>\n",
       "      <td>13</td>\n",
       "      <td>2020-01-26</td>\n",
       "      <td>588.5</td>\n",
       "      <td>15.0</td>\n",
       "      <td>8.0</td>\n",
       "      <td>594.545455</td>\n",
       "      <td>13.702479</td>\n",
       "      <td>10.099174</td>\n",
       "      <td>2010</td>\n",
       "      <td>-108</td>\n",
       "    </tr>\n",
       "  </tbody>\n",
       "</table>\n",
       "</div>"
      ],
      "text/plain": [
       "   new_confirmed_cases  new_deaths  new_recoveries       date  confirmed_MA  \\\n",
       "0                  555          17              28 2020-01-22           NaN   \n",
       "1                   98           1               2 2020-01-23         326.5   \n",
       "2                  288           8               6 2020-01-24         193.0   \n",
       "3                  497          16               3 2020-01-25         392.5   \n",
       "4                  680          14              13 2020-01-26         588.5   \n",
       "\n",
       "   deaths_MA  recovered_MA  confirmed_exp_MA  deaths_exp_MA  recovered_exp_MA  \\\n",
       "0        NaN           NaN        555.000000      17.000000         28.000000   \n",
       "1        9.0          15.0        212.250000       5.000000          8.500000   \n",
       "2        4.5           4.0        264.692308       7.076923          6.769231   \n",
       "3       12.0           4.5        421.500000      13.100000          4.225000   \n",
       "4       15.0           8.0        594.545455      13.702479         10.099174   \n",
       "\n",
       "   currently_infected  delta  \n",
       "0                 510    -45  \n",
       "1                 605    -48  \n",
       "2                 879    -62  \n",
       "3                1357    -81  \n",
       "4                2010   -108  "
      ]
     },
     "execution_count": 152,
     "metadata": {},
     "output_type": "execute_result"
    }
   ],
   "source": [
    "daily_df.head()"
   ]
  },
  {
   "cell_type": "code",
   "execution_count": 153,
   "metadata": {},
   "outputs": [
    {
     "data": {
      "text/html": [
       "<div>\n",
       "<style scoped>\n",
       "    .dataframe tbody tr th:only-of-type {\n",
       "        vertical-align: middle;\n",
       "    }\n",
       "\n",
       "    .dataframe tbody tr th {\n",
       "        vertical-align: top;\n",
       "    }\n",
       "\n",
       "    .dataframe thead th {\n",
       "        text-align: right;\n",
       "    }\n",
       "</style>\n",
       "<table border=\"1\" class=\"dataframe\">\n",
       "  <thead>\n",
       "    <tr style=\"text-align: right;\">\n",
       "      <th></th>\n",
       "      <th>new_confirmed_cases</th>\n",
       "    </tr>\n",
       "  </thead>\n",
       "  <tbody>\n",
       "    <tr>\n",
       "      <th>count</th>\n",
       "      <td>33.000000</td>\n",
       "    </tr>\n",
       "    <tr>\n",
       "      <th>mean</th>\n",
       "      <td>2387.363636</td>\n",
       "    </tr>\n",
       "    <tr>\n",
       "      <th>std</th>\n",
       "      <td>2700.266964</td>\n",
       "    </tr>\n",
       "    <tr>\n",
       "      <th>min</th>\n",
       "      <td>98.000000</td>\n",
       "    </tr>\n",
       "    <tr>\n",
       "      <th>25%</th>\n",
       "      <td>587.000000</td>\n",
       "    </tr>\n",
       "    <tr>\n",
       "      <th>50%</th>\n",
       "      <td>2027.000000</td>\n",
       "    </tr>\n",
       "    <tr>\n",
       "      <th>75%</th>\n",
       "      <td>3034.000000</td>\n",
       "    </tr>\n",
       "    <tr>\n",
       "      <th>max</th>\n",
       "      <td>15001.000000</td>\n",
       "    </tr>\n",
       "  </tbody>\n",
       "</table>\n",
       "</div>"
      ],
      "text/plain": [
       "       new_confirmed_cases\n",
       "count            33.000000\n",
       "mean           2387.363636\n",
       "std            2700.266964\n",
       "min              98.000000\n",
       "25%             587.000000\n",
       "50%            2027.000000\n",
       "75%            3034.000000\n",
       "max           15001.000000"
      ]
     },
     "execution_count": 153,
     "metadata": {},
     "output_type": "execute_result"
    }
   ],
   "source": [
    "daily_df.new_confirmed_cases.describe().to_frame()"
   ]
  },
  {
   "cell_type": "code",
   "execution_count": 157,
   "metadata": {},
   "outputs": [
    {
     "data": {
      "image/png": "[encoded data removed]",
      "text/plain": [
       "<Figure size 936x576 with 1 Axes>"
      ]
     },
     "metadata": {},
     "output_type": "display_data"
    }
   ],
   "source": [
    "plot_trend_line(daily_df, 'confirmed_exp_MA')"
   ]
  },
  {
   "cell_type": "markdown",
   "metadata": {},
   "source": [
    "### Baseline Prediction"
   ]
  },
  {
   "cell_type": "code",
   "execution_count": 187,
   "metadata": {},
   "outputs": [
    {
     "data": {
      "text/plain": [
       "0    555.000000\n",
       "1    212.250000\n",
       "2    264.692308\n",
       "Name: confirmed_exp_MA, dtype: float64"
      ]
     },
     "execution_count": 187,
     "metadata": {},
     "output_type": "execute_result"
    }
   ],
   "source": [
    "daily_df.confirmed_exp_MA[:3]"
   ]
  },
  {
   "cell_type": "code",
   "execution_count": 193,
   "metadata": {},
   "outputs": [
    {
     "data": {
      "text/html": [
       "<div>\n",
       "<style scoped>\n",
       "    .dataframe tbody tr th:only-of-type {\n",
       "        vertical-align: middle;\n",
       "    }\n",
       "\n",
       "    .dataframe tbody tr th {\n",
       "        vertical-align: top;\n",
       "    }\n",
       "\n",
       "    .dataframe thead th {\n",
       "        text-align: right;\n",
       "    }\n",
       "</style>\n",
       "<table border=\"1\" class=\"dataframe\">\n",
       "  <thead>\n",
       "    <tr style=\"text-align: right;\">\n",
       "      <th></th>\n",
       "      <th>t</th>\n",
       "      <th>t+1</th>\n",
       "    </tr>\n",
       "  </thead>\n",
       "  <tbody>\n",
       "    <tr>\n",
       "      <th>0</th>\n",
       "      <td>555.000000</td>\n",
       "      <td>NaN</td>\n",
       "    </tr>\n",
       "    <tr>\n",
       "      <th>1</th>\n",
       "      <td>212.250000</td>\n",
       "      <td>555.000000</td>\n",
       "    </tr>\n",
       "    <tr>\n",
       "      <th>2</th>\n",
       "      <td>264.692308</td>\n",
       "      <td>212.250000</td>\n",
       "    </tr>\n",
       "    <tr>\n",
       "      <th>3</th>\n",
       "      <td>421.500000</td>\n",
       "      <td>264.692308</td>\n",
       "    </tr>\n",
       "    <tr>\n",
       "      <th>4</th>\n",
       "      <td>594.545455</td>\n",
       "      <td>421.500000</td>\n",
       "    </tr>\n",
       "  </tbody>\n",
       "</table>\n",
       "</div>"
      ],
      "text/plain": [
       "            t         t+1\n",
       "0  555.000000         NaN\n",
       "1  212.250000  555.000000\n",
       "2  264.692308  212.250000\n",
       "3  421.500000  264.692308\n",
       "4  594.545455  421.500000"
      ]
     },
     "execution_count": 193,
     "metadata": {},
     "output_type": "execute_result"
    }
   ],
   "source": [
    "# Create lagged dataset\n",
    "values = pd.DataFrame(daily_df.confirmed_exp_MA.values)\n",
    "df = pd.concat([values, values.shift(1)], axis=1)\n",
    "df.columns = ['t', 't+1']\n",
    "df.head()"
   ]
  },
  {
   "cell_type": "code",
   "execution_count": 203,
   "metadata": {},
   "outputs": [],
   "source": [
    "## Create train and test set\n",
    "X = df.values\n",
    "train_size = int(len(X) * 0.75) # Take the first 2 thirds as training\n",
    "train, test = X[1:train_size], X[train_size:] #1 onward because there is a NaN\n",
    "\n",
    "train_X, train_y = train[:,0], train[:,1]\n",
    "test_X, test_y = test[:,0], test[:,1]"
   ]
  },
  {
   "cell_type": "code",
   "execution_count": 204,
   "metadata": {},
   "outputs": [],
   "source": [
    "# np.sqrt(mean_squared_error(train_X, train_y))"
   ]
  },
  {
   "cell_type": "code",
   "execution_count": 207,
   "metadata": {},
   "outputs": [
    {
     "name": "stdout",
     "output_type": "stream",
     "text": [
      "Test MSE: 1925638.508\n"
     ]
    }
   ],
   "source": [
    "predictions = list()\n",
    "for x in test_X:\n",
    "\tpredictions.append(x)\n",
    "\n",
    "test_score = mean_squared_error(test_y, predictions)\n",
    "print('Test MSE: %.3f' % test_score)"
   ]
  },
  {
   "cell_type": "code",
   "execution_count": 208,
   "metadata": {},
   "outputs": [
    {
     "data": {
      "image/png": "[encoded data removed]",
      "text/plain": [
       "<Figure size 432x288 with 1 Axes>"
      ]
     },
     "metadata": {},
     "output_type": "display_data"
    }
   ],
   "source": [
    "# plot predictions and expected results\n",
    "plt.plot(train_y)\n",
    "plt.plot([None for i in train_y] + [x for x in test_y])\n",
    "plt.plot([None for i in train_y] + [x for x in predictions])\n",
    "plt.show()"
   ]
  },
  {
   "cell_type": "markdown",
   "metadata": {},
   "source": [
    "#### Our basline metric\n",
    "- .80 training"
   ]
  },
  {
   "cell_type": "code",
   "execution_count": 211,
   "metadata": {},
   "outputs": [
    {
     "name": "stdout",
     "output_type": "stream",
     "text": [
      "BASELINE SCORE FOR MODELS: 1387.674\n"
     ]
    }
   ],
   "source": [
    "# A squared value is not interpretable, so you get the sqaure root to get the mean error value\n",
    "print('BASELINE SCORE FOR MODELS: %.3f' % np.sqrt(test_score))"
   ]
  },
  {
   "cell_type": "markdown",
   "metadata": {},
   "source": [
    "## ARIMA"
   ]
  },
  {
   "cell_type": "markdown",
   "metadata": {},
   "source": [
    "#### Autoregressive (p) integrated (d) moving average (q)\n",
    "- Autoregressive -> previous value is correlated with the future value\n",
    "- integrated -> order of difference (delta between t and t-1)\n",
    "    - Can be denoted by (d), so d=1, d=2 and so on\n",
    "    - tries remove the error\n",
    "- moving average -> smoothing"
   ]
  },
  {
   "cell_type": "code",
   "execution_count": 212,
   "metadata": {},
   "outputs": [],
   "source": [
    "from statsmodels.graphics.tsaplots import plot_acf, plot_pacf"
   ]
  },
  {
   "cell_type": "code",
   "execution_count": 221,
   "metadata": {},
   "outputs": [],
   "source": [
    "# df"
   ]
  },
  {
   "cell_type": "code",
   "execution_count": 222,
   "metadata": {},
   "outputs": [
    {
     "data": {
      "image/png": "[encoded data removed]",
      "text/plain": [
       "<Figure size 432x288 with 1 Axes>"
      ]
     },
     "execution_count": 222,
     "metadata": {},
     "output_type": "execute_result"
    },
    {
     "data": {
      "image/png": "[encoded data removed]",
      "text/plain": [
       "<Figure size 432x288 with 1 Axes>"
      ]
     },
     "metadata": {},
     "output_type": "display_data"
    }
   ],
   "source": [
    "plot_acf(df['t']) # Identify q"
   ]
  },
  {
   "cell_type": "code",
   "execution_count": 223,
   "metadata": {},
   "outputs": [
    {
     "data": {
      "image/png": "[encoded data removed]",
      "text/plain": [
       "<Figure size 432x288 with 1 Axes>"
      ]
     },
     "execution_count": 223,
     "metadata": {},
     "output_type": "execute_result"
    },
    {
     "data": {
      "image/png": "[encoded data removed]",
      "text/plain": [
       "<Figure size 432x288 with 1 Axes>"
      ]
     },
     "metadata": {},
     "output_type": "display_data"
    }
   ],
   "source": [
    "plot_pacf(df['t']) # Identift p"
   ]
  },
  {
   "cell_type": "code",
   "execution_count": null,
   "metadata": {},
   "outputs": [],
   "source": [
    "from statsmodels.tsa.arima_model import ARIMA\n",
    "model = ARIMA(train, )\n",
    "\n",
    "\n",
    "model.aic()"
   ]
  }
 ],
 "metadata": {
  "file_extension": ".py",
  "kernelspec": {
   "display_name": "Python 3.6.8 64-bit ('anaconda3': virtualenv)",
   "language": "python",
   "name": "python36864bitanaconda3virtualenv59e2ff4492e04649af7e0fd703909eac"
  },
  "language_info": {
   "codemirror_mode": {
    "name": "ipython",
    "version": 3
   },
   "file_extension": ".py",
   "mimetype": "text/x-python",
   "name": "python",
   "nbconvert_exporter": "python",
   "pygments_lexer": "ipython3",
   "version": "3.6.8"
  },
  "mimetype": "text/x-python",
  "name": "python",
  "npconvert_exporter": "python",
  "pygments_lexer": "ipython3",
  "version": 3
 },
 "nbformat": 4,
 "nbformat_minor": 4
}
